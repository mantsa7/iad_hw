{
 "cells": [
  {
   "cell_type": "markdown",
   "metadata": {
    "id": "IHgmxWG_7lnE"
   },
   "source": [
    "# Введение в анализ данных\n",
    "## НИУ ВШЭ, 2020-2021 учебный год\n",
    "\n",
    "### Домашнее задание №8"
   ]
  },
  {
   "cell_type": "code",
   "execution_count": 1,
   "metadata": {
    "id": "GOqjUI6igeLc"
   },
   "outputs": [],
   "source": [
    "import numpy as np\n",
    "import pandas as pd\n",
    "from sklearn.datasets import load_boston\n",
    "from sklearn.model_selection import train_test_split\n",
    "from sklearn.tree import DecisionTreeClassifier, DecisionTreeRegressor\n",
    "from sklearn.metrics import accuracy_score, precision_score, recall_score, roc_auc_score, mean_squared_error\n",
    "from sklearn.model_selection import GridSearchCV"
   ]
  },
  {
   "cell_type": "markdown",
   "metadata": {
    "id": "-tKaz0okgeLh"
   },
   "source": [
    "## Градиентный бустинг своими руками (2 + 2* баллов)\n",
    "\n",
    "Реализуйте алгоритм градиентного бустинга для регрессии. Напомним основные формулы.\n",
    "\n",
    "Обозначим текущую композицию на $N-1$ шаге за $a_{N - 1}(x_i)$. Следующий базовый алгоритм $b_N(x_i)$ обучается на ответах $-\\frac{\\partial L(y_i, z)}{\\partial z}\\Bigl|_{z = a_{N - 1}(x_i)}$, где $L(y_i, z)$ — значение функции потерь на объекте при правильном ответе $y_i$ и предсказании $z$. Композиция на следующем шаге получается следующим образом:\n",
    "\n",
    "$$\n",
    "a_N(x_i) = a_{N-1}(x_i) + \\nu\\gamma_Nb_N(x_i)\n",
    "$$\n",
    "\n",
    "Здесь $\\nu$ — гиперпараметр learning rate, $\\gamma_N$ — оптимальный вес, настраиваемый на каждом шаге алгоритма, который можно найти по следующей формуле (обратите внимание на отсутствие $\\nu$):\n",
    "\n",
    "$$\n",
    "\\gamma_N = \\mathrm{arg}\\min_\\gamma \\frac{1}{\\ell}\\sum\\limits_{i=1}^{\\ell}L\\left(y_i, a_{N - 1}(x_i) + \\gamma b_N(x_i)\\right)\n",
    "$$\n",
    "\n",
    "Можете принять $\\gamma_N = 1$ для каждого $N$. Реализуйте нахождение оптимального $\\gamma_N$ на каждом шаге, чтобы получить ещё 1 балл.\n",
    "\n",
    "В качестве функции потерь возьмите MSE.\n",
    "\n",
    "*Примечание. Вы можете использовать `DecisionTree` из `sklearn` и методы оптимизации из различных библиотек.*"
   ]
  },
  {
   "cell_type": "code",
   "execution_count": 2,
   "metadata": {
    "id": "Eu_ZIF9YgeLi"
   },
   "outputs": [],
   "source": [
    "# это может помочь вам для поиска оптимальных gamma\n",
    "from scipy.optimize import minimize"
   ]
  },
  {
   "cell_type": "code",
   "execution_count": 3,
   "metadata": {},
   "outputs": [],
   "source": [
    "from sklearn.tree import DecisionTreeRegressor"
   ]
  },
  {
   "cell_type": "code",
   "execution_count": 12,
   "metadata": {
    "id": "ZB5Yt-LKgeLi"
   },
   "outputs": [],
   "source": [
    "class GradientBoosting:\n",
    "    def __init__(self, n_estimators, max_depth, learning_rate=0.1):\n",
    "        \"\"\"\n",
    "        PARAMETERS:\n",
    "        n_estimators - number of trees in the ensemble\n",
    "        max_depth - maximum depth of a tree\n",
    "        learning_rate - coefficient by which new algorithm result is multiplied\n",
    "        \"\"\"\n",
    "        # your code here\n",
    "        self.n_estimators = n_estimators\n",
    "        self.max_depth = max_depth\n",
    "        self.learning_rate = learning_rate\n",
    "        self.gamma = 1\n",
    "        self.trees = list()\n",
    "        \n",
    "    def fit(self, x, y):\n",
    "        \"\"\"\n",
    "        INPUT:\n",
    "        x - np.array of shape (k, d)\n",
    "        y - np.array of shape (k,)\n",
    "        \"\"\"\n",
    "        # Здесь нам нужно проитерироваться по n_estimators и обучить\n",
    "        # соответствующее количество деревьев с помощью _fit_predict_tree(),\n",
    "        # правильно обновляя y_new\n",
    "        # Деревья нужно где-то сохранить, чтобы затем использовать в predict()\n",
    "        # your code here\n",
    "        y_new = y\n",
    "        a = self._fit_predict_tree(x, y)\n",
    "        for i in range(self.n_estimators - 1):\n",
    "            y_new = y - a\n",
    "            weighted_b_n = self._fit_predict_tree(x, y_new)\n",
    "            self.gamma = minimize(lambda x: np.mean(y - a - x * weighted_b_n / self.learning_rate) ** 2, (-1)).x\n",
    "            #print(self.gamma)\n",
    "            a += weighted_b_n\n",
    "            # your code here\n",
    "\n",
    "    def _fit_predict_tree(self, x, y):\n",
    "        # Обучаем дерево и возвращаем его предикшн\n",
    "        tree = DecisionTreeRegressor(max_depth = self.max_depth)\n",
    "        tree.fit(x, y) # your code here\n",
    "        self.trees.append(tree)\n",
    "        return self.gamma * self.learning_rate * tree.predict(x)\n",
    "        \n",
    "    def predict(self, x):\n",
    "        \"\"\"\n",
    "        INPUT:\n",
    "        x - np.array of shape (m, d)\n",
    "        OUTPUT:\n",
    "        y_pred - np.array of shape (m,)\n",
    "        \"\"\"\n",
    "        # Используем сохранённые деревья для расчёта агрегированного предикшна\n",
    "        #y_pred = self.gamma * self.learning_rate * self.trees[0].predict(x) \n",
    "        y_pred = [0] * len(x)\n",
    "        for clf in self.trees: # your code here\n",
    "            y_pred += self.gamma * self.learning_rate * clf.predict(x)\n",
    "        return y_pred\n",
    "    \n",
    "    def get_params(self, deep=True): # for GridSearch\n",
    "        return {\"n_estimators\": self.n_estimators, \n",
    "                \"max_depth\": self.max_depth,\n",
    "                \"learning_rate\": self.learning_rate}\n",
    "\n",
    "    def set_params(self, **parameters): # for GridSearch\n",
    "        for parameter, value in parameters.items():\n",
    "            setattr(self, parameter, value)\n",
    "        return self"
   ]
  },
  {
   "cell_type": "markdown",
   "metadata": {
    "id": "7z-8PafFgeLj"
   },
   "source": [
    "Проверьте вашу реализацию на Boston dataset. Подберите оптимальные гиперпараметры, чтобы победить RandomForestRegressor как в обычном случае, так и при нахождении оптимального шага **(не меняйте параметры сида)**. При необходимости воспользуйтесь GridSearch. За это вы получите ещё 1 балл."
   ]
  },
  {
   "cell_type": "code",
   "execution_count": 5,
   "metadata": {
    "id": "0rxKS85vgeLj"
   },
   "outputs": [],
   "source": [
    "boston = load_boston()\n",
    "X = boston.data\n",
    "y = boston.target\n",
    "X_train, X_test, y_train, y_test = train_test_split(X, y, test_size=0.25, random_state=13)"
   ]
  },
  {
   "cell_type": "code",
   "execution_count": 6,
   "metadata": {
    "id": "dAOaQK2a2N4p"
   },
   "outputs": [
    {
     "data": {
      "text/plain": [
       "9.63198271791959"
      ]
     },
     "execution_count": 6,
     "metadata": {},
     "output_type": "execute_result"
    }
   ],
   "source": [
    "from sklearn.ensemble import RandomForestRegressor\n",
    "\n",
    "rf = RandomForestRegressor(max_features=4, n_estimators=640, random_state=19052019)\n",
    "\n",
    "rf.fit(X_train, y_train)\n",
    "mean_squared_error(y_test, rf.predict(X_test))"
   ]
  },
  {
   "cell_type": "code",
   "execution_count": 7,
   "metadata": {
    "id": "_gt3vn0IgeLk"
   },
   "outputs": [
    {
     "data": {
      "text/plain": [
       "12.510351688426994"
      ]
     },
     "execution_count": 7,
     "metadata": {},
     "output_type": "execute_result"
    }
   ],
   "source": [
    "np.random.seed(19052019)\n",
    "\n",
    "# Это лучший результат, найденный грид серчем, с использованием оптимальной гаммы\n",
    "gb = GradientBoosting(n_estimators = 80, max_depth = 3)\n",
    "gb.fit(X_train, y_train)\n",
    "y_pred = gb.predict(X_test)\n",
    "\n",
    "mean_squared_error(y_test, y_pred) \n",
    "\n",
    "#лучшее качество получается только если использовать постоянную гамма = 1 \n",
    "#продемонстировано ниже"
   ]
  },
  {
   "cell_type": "code",
   "execution_count": 225,
   "metadata": {},
   "outputs": [
    {
     "data": {
      "text/plain": [
       "{'learning_rate': 0.1, 'max_depth': 3, 'n_estimators': 98}"
      ]
     },
     "execution_count": 225,
     "metadata": {},
     "output_type": "execute_result"
    }
   ],
   "source": [
    "np.random.seed(19052019)\n",
    "\n",
    "gb = GradientBoosting(n_estimators = 10, max_depth = 1)\n",
    "\n",
    "parametrs = { 'n_estimators': range (10, 100, 2),\n",
    "              'max_depth': range (1, 13, 1),\n",
    "              'learning_rate': list([0.1, 0.2, 0.3]) }\n",
    "\n",
    "grid = GridSearchCV(gb, parametrs, cv=5, scoring='neg_mean_squared_error')\n",
    "grid.fit(X_train, y_train)\n",
    "\n",
    "grid.best_params_"
   ]
  },
  {
   "cell_type": "markdown",
   "metadata": {},
   "source": [
    "Перед запуском следующих двух ячеек закомментируйте `self.gamma = ...` в методе fit"
   ]
  },
  {
   "cell_type": "code",
   "execution_count": 14,
   "metadata": {},
   "outputs": [
    {
     "data": {
      "text/plain": [
       "12.38698124667977"
      ]
     },
     "execution_count": 14,
     "metadata": {},
     "output_type": "execute_result"
    }
   ],
   "source": [
    "np.random.seed(19052019)\n",
    "\n",
    "gb = GradientBoosting(n_estimators = 98, max_depth = 3, learning_rate=0.1)\n",
    "gb.fit(X_train, y_train)\n",
    "y_pred = gb.predict(X_test)\n",
    "\n",
    "mean_squared_error(y_test, y_pred) "
   ]
  },
  {
   "cell_type": "code",
   "execution_count": 13,
   "metadata": {
    "id": "hLasKyLXgeLk"
   },
   "outputs": [
    {
     "data": {
      "text/plain": [
       "9.409739879853715"
      ]
     },
     "execution_count": 13,
     "metadata": {},
     "output_type": "execute_result"
    }
   ],
   "source": [
    "np.random.seed(19052019)\n",
    "\n",
    "gb = GradientBoosting(n_estimators = 53, max_depth = 6, learning_rate=0.2)\n",
    "gb.fit(X_train, y_train)\n",
    "y_pred = gb.predict(X_test)\n",
    "\n",
    "mean_squared_error(y_test, y_pred) "
   ]
  },
  {
   "cell_type": "markdown",
   "metadata": {
    "id": "bCWou8xPgeLl"
   },
   "source": [
    "Для удобства проверяющего укажите, пожалуйста, реализовали ли вы нахождение оптимального шага?\n",
    "\n",
    "- Да "
   ]
  },
  {
   "cell_type": "markdown",
   "metadata": {
    "id": "PgCTG0lbO1mK"
   },
   "source": [
    "## Прогнозируем задержки самолётов (2 балла)"
   ]
  },
  {
   "cell_type": "markdown",
   "metadata": {
    "id": "ZVZibhKiM3j4"
   },
   "source": [
    "Поработаем с задачей про задержки самолётов. На основании доступных данных о рейсе вам нужно определить, будет ли он задержан на 15 минут.\n",
    "Воспользуйтесь любыми методами градиентного бустинга {XGboost, catboost, LightGBM} и GridSearch для достижения результата. Получите 1 балл за преодоление порога roc_auc_score 0.72 и ещё 1 балл за преодоление порога 0.74."
   ]
  },
  {
   "cell_type": "code",
   "execution_count": 30,
   "metadata": {
    "id": "WuwqUkrfM3UI"
   },
   "outputs": [],
   "source": [
    "train = pd.read_csv('https://raw.githubusercontent.com/PersDep/data-mining-intro-2021/main/hw08-boosting-clustering/flight_delays_train.csv')\n",
    "test = pd.read_csv('https://raw.githubusercontent.com/PersDep/data-mining-intro-2021/main/hw08-boosting-clustering/flight_delays_test.csv')"
   ]
  },
  {
   "cell_type": "code",
   "execution_count": 31,
   "metadata": {
    "colab": {
     "base_uri": "https://localhost:8080/",
     "height": 203
    },
    "id": "af-whZAeNz5f",
    "outputId": "58fa5a63-510a-41d4-c759-eeb74e81ea9a"
   },
   "outputs": [
    {
     "data": {
      "text/html": [
       "<div>\n",
       "<style scoped>\n",
       "    .dataframe tbody tr th:only-of-type {\n",
       "        vertical-align: middle;\n",
       "    }\n",
       "\n",
       "    .dataframe tbody tr th {\n",
       "        vertical-align: top;\n",
       "    }\n",
       "\n",
       "    .dataframe thead th {\n",
       "        text-align: right;\n",
       "    }\n",
       "</style>\n",
       "<table border=\"1\" class=\"dataframe\">\n",
       "  <thead>\n",
       "    <tr style=\"text-align: right;\">\n",
       "      <th></th>\n",
       "      <th>Month</th>\n",
       "      <th>DayofMonth</th>\n",
       "      <th>DayOfWeek</th>\n",
       "      <th>DepTime</th>\n",
       "      <th>UniqueCarrier</th>\n",
       "      <th>Origin</th>\n",
       "      <th>Dest</th>\n",
       "      <th>Distance</th>\n",
       "      <th>dep_delayed_15min</th>\n",
       "    </tr>\n",
       "  </thead>\n",
       "  <tbody>\n",
       "    <tr>\n",
       "      <th>0</th>\n",
       "      <td>c-8</td>\n",
       "      <td>c-21</td>\n",
       "      <td>c-7</td>\n",
       "      <td>1934</td>\n",
       "      <td>AA</td>\n",
       "      <td>ATL</td>\n",
       "      <td>DFW</td>\n",
       "      <td>732</td>\n",
       "      <td>N</td>\n",
       "    </tr>\n",
       "    <tr>\n",
       "      <th>1</th>\n",
       "      <td>c-4</td>\n",
       "      <td>c-20</td>\n",
       "      <td>c-3</td>\n",
       "      <td>1548</td>\n",
       "      <td>US</td>\n",
       "      <td>PIT</td>\n",
       "      <td>MCO</td>\n",
       "      <td>834</td>\n",
       "      <td>N</td>\n",
       "    </tr>\n",
       "    <tr>\n",
       "      <th>2</th>\n",
       "      <td>c-9</td>\n",
       "      <td>c-2</td>\n",
       "      <td>c-5</td>\n",
       "      <td>1422</td>\n",
       "      <td>XE</td>\n",
       "      <td>RDU</td>\n",
       "      <td>CLE</td>\n",
       "      <td>416</td>\n",
       "      <td>N</td>\n",
       "    </tr>\n",
       "    <tr>\n",
       "      <th>3</th>\n",
       "      <td>c-11</td>\n",
       "      <td>c-25</td>\n",
       "      <td>c-6</td>\n",
       "      <td>1015</td>\n",
       "      <td>OO</td>\n",
       "      <td>DEN</td>\n",
       "      <td>MEM</td>\n",
       "      <td>872</td>\n",
       "      <td>N</td>\n",
       "    </tr>\n",
       "    <tr>\n",
       "      <th>4</th>\n",
       "      <td>c-10</td>\n",
       "      <td>c-7</td>\n",
       "      <td>c-6</td>\n",
       "      <td>1828</td>\n",
       "      <td>WN</td>\n",
       "      <td>MDW</td>\n",
       "      <td>OMA</td>\n",
       "      <td>423</td>\n",
       "      <td>Y</td>\n",
       "    </tr>\n",
       "  </tbody>\n",
       "</table>\n",
       "</div>"
      ],
      "text/plain": [
       "  Month DayofMonth DayOfWeek  DepTime UniqueCarrier Origin Dest  Distance  \\\n",
       "0   c-8       c-21       c-7     1934            AA    ATL  DFW       732   \n",
       "1   c-4       c-20       c-3     1548            US    PIT  MCO       834   \n",
       "2   c-9        c-2       c-5     1422            XE    RDU  CLE       416   \n",
       "3  c-11       c-25       c-6     1015            OO    DEN  MEM       872   \n",
       "4  c-10        c-7       c-6     1828            WN    MDW  OMA       423   \n",
       "\n",
       "  dep_delayed_15min  \n",
       "0                 N  \n",
       "1                 N  \n",
       "2                 N  \n",
       "3                 N  \n",
       "4                 Y  "
      ]
     },
     "execution_count": 31,
     "metadata": {},
     "output_type": "execute_result"
    }
   ],
   "source": [
    "train.head()"
   ]
  },
  {
   "cell_type": "code",
   "execution_count": 26,
   "metadata": {
    "id": "SEeP9QZ3QtLr",
    "scrolled": true
   },
   "outputs": [
    {
     "name": "stdout",
     "output_type": "stream",
     "text": [
      "Requirement already up-to-date: catboost in c:\\users\\mantsa\\appdata\\roaming\\python\\python38\\site-packages (0.26)\n",
      "Requirement already satisfied, skipping upgrade: numpy>=1.16.0 in c:\\anaconda\\lib\\site-packages (from catboost) (1.20.3)\n",
      "Requirement already satisfied, skipping upgrade: plotly in c:\\users\\mantsa\\appdata\\roaming\\python\\python38\\site-packages (from catboost) (4.14.3)\n",
      "Requirement already satisfied, skipping upgrade: six in c:\\anaconda\\lib\\site-packages (from catboost) (1.15.0)\n",
      "Requirement already satisfied, skipping upgrade: graphviz in c:\\users\\mantsa\\appdata\\roaming\\python\\python38\\site-packages (from catboost) (0.16)\n",
      "Requirement already satisfied, skipping upgrade: scipy in c:\\anaconda\\lib\\site-packages (from catboost) (1.5.2)\n",
      "Requirement already satisfied, skipping upgrade: matplotlib in c:\\anaconda\\lib\\site-packages (from catboost) (3.3.2)\n",
      "Requirement already satisfied, skipping upgrade: pandas>=0.24.0 in c:\\anaconda\\lib\\site-packages (from catboost) (1.1.3)\n",
      "Requirement already satisfied, skipping upgrade: retrying>=1.3.3 in c:\\users\\mantsa\\appdata\\roaming\\python\\python38\\site-packages (from plotly->catboost) (1.3.3)\n",
      "Requirement already satisfied, skipping upgrade: python-dateutil>=2.1 in c:\\anaconda\\lib\\site-packages (from matplotlib->catboost) (2.8.1)\n",
      "Requirement already satisfied, skipping upgrade: pyparsing!=2.0.4,!=2.1.2,!=2.1.6,>=2.0.3 in c:\\anaconda\\lib\\site-packages (from matplotlib->catboost) (2.4.7)\n",
      "Requirement already satisfied, skipping upgrade: pillow>=6.2.0 in c:\\anaconda\\lib\\site-packages (from matplotlib->catboost) (8.0.1)\n",
      "Requirement already satisfied, skipping upgrade: cycler>=0.10 in c:\\anaconda\\lib\\site-packages (from matplotlib->catboost) (0.10.0)\n",
      "Requirement already satisfied, skipping upgrade: certifi>=2020.06.20 in c:\\anaconda\\lib\\site-packages (from matplotlib->catboost) (2020.6.20)\n",
      "Requirement already satisfied, skipping upgrade: kiwisolver>=1.0.1 in c:\\anaconda\\lib\\site-packages (from matplotlib->catboost) (1.3.0)\n",
      "Requirement already satisfied, skipping upgrade: pytz>=2017.2 in c:\\anaconda\\lib\\site-packages (from pandas>=0.24.0->catboost) (2020.1)\n",
      "Requirement already up-to-date: ipywidgets in c:\\users\\mantsa\\appdata\\roaming\\python\\python38\\site-packages (7.6.3)\n",
      "Requirement already satisfied, skipping upgrade: jupyterlab-widgets>=1.0.0; python_version >= \"3.6\" in c:\\users\\mantsa\\appdata\\roaming\\python\\python38\\site-packages (from ipywidgets) (1.0.0)\n",
      "Requirement already satisfied, skipping upgrade: traitlets>=4.3.1 in c:\\anaconda\\lib\\site-packages (from ipywidgets) (5.0.5)\n",
      "Requirement already satisfied, skipping upgrade: ipykernel>=4.5.1 in c:\\anaconda\\lib\\site-packages (from ipywidgets) (5.3.4)\n",
      "Requirement already satisfied, skipping upgrade: widgetsnbextension~=3.5.0 in c:\\anaconda\\lib\\site-packages (from ipywidgets) (3.5.1)\n",
      "Requirement already satisfied, skipping upgrade: ipython>=4.0.0; python_version >= \"3.3\" in c:\\anaconda\\lib\\site-packages (from ipywidgets) (7.19.0)\n",
      "Requirement already satisfied, skipping upgrade: nbformat>=4.2.0 in c:\\anaconda\\lib\\site-packages (from ipywidgets) (5.0.8)\n",
      "Requirement already satisfied, skipping upgrade: ipython-genutils in c:\\anaconda\\lib\\site-packages (from traitlets>=4.3.1->ipywidgets) (0.2.0)\n",
      "Requirement already satisfied, skipping upgrade: tornado>=4.2 in c:\\anaconda\\lib\\site-packages (from ipykernel>=4.5.1->ipywidgets) (6.0.4)\n",
      "Requirement already satisfied, skipping upgrade: jupyter-client in c:\\anaconda\\lib\\site-packages (from ipykernel>=4.5.1->ipywidgets) (6.1.7)\n",
      "Requirement already satisfied, skipping upgrade: notebook>=4.4.1 in c:\\anaconda\\lib\\site-packages (from widgetsnbextension~=3.5.0->ipywidgets) (6.1.4)\n",
      "Requirement already satisfied, skipping upgrade: pickleshare in c:\\anaconda\\lib\\site-packages (from ipython>=4.0.0; python_version >= \"3.3\"->ipywidgets) (0.7.5)\n",
      "Requirement already satisfied, skipping upgrade: pygments in c:\\anaconda\\lib\\site-packages (from ipython>=4.0.0; python_version >= \"3.3\"->ipywidgets) (2.7.2)\n",
      "Requirement already satisfied, skipping upgrade: backcall in c:\\anaconda\\lib\\site-packages (from ipython>=4.0.0; python_version >= \"3.3\"->ipywidgets) (0.2.0)\n",
      "Requirement already satisfied, skipping upgrade: decorator in c:\\anaconda\\lib\\site-packages (from ipython>=4.0.0; python_version >= \"3.3\"->ipywidgets) (4.4.2)\n",
      "Requirement already satisfied, skipping upgrade: jedi>=0.10 in c:\\anaconda\\lib\\site-packages (from ipython>=4.0.0; python_version >= \"3.3\"->ipywidgets) (0.17.1)\n",
      "Requirement already satisfied, skipping upgrade: prompt-toolkit!=3.0.0,!=3.0.1,<3.1.0,>=2.0.0 in c:\\anaconda\\lib\\site-packages (from ipython>=4.0.0; python_version >= \"3.3\"->ipywidgets) (3.0.8)\n",
      "Requirement already satisfied, skipping upgrade: colorama; sys_platform == \"win32\" in c:\\anaconda\\lib\\site-packages (from ipython>=4.0.0; python_version >= \"3.3\"->ipywidgets) (0.4.4)\n",
      "Requirement already satisfied, skipping upgrade: setuptools>=18.5 in c:\\anaconda\\lib\\site-packages (from ipython>=4.0.0; python_version >= \"3.3\"->ipywidgets) (50.3.1.post20201107)\n",
      "Requirement already satisfied, skipping upgrade: jsonschema!=2.5.0,>=2.4 in c:\\anaconda\\lib\\site-packages (from nbformat>=4.2.0->ipywidgets) (3.2.0)\n",
      "Requirement already satisfied, skipping upgrade: jupyter-core in c:\\anaconda\\lib\\site-packages (from nbformat>=4.2.0->ipywidgets) (4.6.3)\n",
      "Requirement already satisfied, skipping upgrade: pyzmq>=13 in c:\\anaconda\\lib\\site-packages (from jupyter-client->ipykernel>=4.5.1->ipywidgets) (19.0.2)\n",
      "Requirement already satisfied, skipping upgrade: python-dateutil>=2.1 in c:\\anaconda\\lib\\site-packages (from jupyter-client->ipykernel>=4.5.1->ipywidgets) (2.8.1)\n",
      "Requirement already satisfied, skipping upgrade: jinja2 in c:\\anaconda\\lib\\site-packages (from notebook>=4.4.1->widgetsnbextension~=3.5.0->ipywidgets) (2.11.2)\n",
      "Requirement already satisfied, skipping upgrade: Send2Trash in c:\\anaconda\\lib\\site-packages (from notebook>=4.4.1->widgetsnbextension~=3.5.0->ipywidgets) (1.5.0)\n",
      "Requirement already satisfied, skipping upgrade: argon2-cffi in c:\\anaconda\\lib\\site-packages (from notebook>=4.4.1->widgetsnbextension~=3.5.0->ipywidgets) (20.1.0)\n",
      "Requirement already satisfied, skipping upgrade: nbconvert in c:\\anaconda\\lib\\site-packages (from notebook>=4.4.1->widgetsnbextension~=3.5.0->ipywidgets) (6.0.7)\n",
      "Requirement already satisfied, skipping upgrade: terminado>=0.8.3 in c:\\anaconda\\lib\\site-packages (from notebook>=4.4.1->widgetsnbextension~=3.5.0->ipywidgets) (0.9.1)\n",
      "Requirement already satisfied, skipping upgrade: prometheus-client in c:\\anaconda\\lib\\site-packages (from notebook>=4.4.1->widgetsnbextension~=3.5.0->ipywidgets) (0.8.0)\n",
      "Requirement already satisfied, skipping upgrade: parso<0.8.0,>=0.7.0 in c:\\anaconda\\lib\\site-packages (from jedi>=0.10->ipython>=4.0.0; python_version >= \"3.3\"->ipywidgets) (0.7.0)\n",
      "Requirement already satisfied, skipping upgrade: wcwidth in c:\\anaconda\\lib\\site-packages (from prompt-toolkit!=3.0.0,!=3.0.1,<3.1.0,>=2.0.0->ipython>=4.0.0; python_version >= \"3.3\"->ipywidgets) (0.2.5)\n",
      "Requirement already satisfied, skipping upgrade: pyrsistent>=0.14.0 in c:\\anaconda\\lib\\site-packages (from jsonschema!=2.5.0,>=2.4->nbformat>=4.2.0->ipywidgets) (0.17.3)\n",
      "Requirement already satisfied, skipping upgrade: six>=1.11.0 in c:\\anaconda\\lib\\site-packages (from jsonschema!=2.5.0,>=2.4->nbformat>=4.2.0->ipywidgets) (1.15.0)\n",
      "Requirement already satisfied, skipping upgrade: attrs>=17.4.0 in c:\\anaconda\\lib\\site-packages (from jsonschema!=2.5.0,>=2.4->nbformat>=4.2.0->ipywidgets) (20.3.0)\n",
      "Requirement already satisfied, skipping upgrade: pywin32>=1.0; sys_platform == \"win32\" in c:\\anaconda\\lib\\site-packages (from jupyter-core->nbformat>=4.2.0->ipywidgets) (227)\n",
      "Requirement already satisfied, skipping upgrade: MarkupSafe>=0.23 in c:\\anaconda\\lib\\site-packages (from jinja2->notebook>=4.4.1->widgetsnbextension~=3.5.0->ipywidgets) (1.1.1)\n",
      "Requirement already satisfied, skipping upgrade: cffi>=1.0.0 in c:\\anaconda\\lib\\site-packages (from argon2-cffi->notebook>=4.4.1->widgetsnbextension~=3.5.0->ipywidgets) (1.14.3)\n",
      "Requirement already satisfied, skipping upgrade: bleach in c:\\anaconda\\lib\\site-packages (from nbconvert->notebook>=4.4.1->widgetsnbextension~=3.5.0->ipywidgets) (3.2.1)\n",
      "Requirement already satisfied, skipping upgrade: entrypoints>=0.2.2 in c:\\anaconda\\lib\\site-packages (from nbconvert->notebook>=4.4.1->widgetsnbextension~=3.5.0->ipywidgets) (0.3)\n",
      "Requirement already satisfied, skipping upgrade: pandocfilters>=1.4.1 in c:\\anaconda\\lib\\site-packages (from nbconvert->notebook>=4.4.1->widgetsnbextension~=3.5.0->ipywidgets) (1.4.3)\n",
      "Requirement already satisfied, skipping upgrade: mistune<2,>=0.8.1 in c:\\anaconda\\lib\\site-packages (from nbconvert->notebook>=4.4.1->widgetsnbextension~=3.5.0->ipywidgets) (0.8.4)\n",
      "Requirement already satisfied, skipping upgrade: testpath in c:\\anaconda\\lib\\site-packages (from nbconvert->notebook>=4.4.1->widgetsnbextension~=3.5.0->ipywidgets) (0.4.4)\n",
      "Requirement already satisfied, skipping upgrade: nbclient<0.6.0,>=0.5.0 in c:\\anaconda\\lib\\site-packages (from nbconvert->notebook>=4.4.1->widgetsnbextension~=3.5.0->ipywidgets) (0.5.1)\n",
      "Requirement already satisfied, skipping upgrade: jupyterlab-pygments in c:\\anaconda\\lib\\site-packages (from nbconvert->notebook>=4.4.1->widgetsnbextension~=3.5.0->ipywidgets) (0.1.2)\n",
      "Requirement already satisfied, skipping upgrade: defusedxml in c:\\anaconda\\lib\\site-packages (from nbconvert->notebook>=4.4.1->widgetsnbextension~=3.5.0->ipywidgets) (0.6.0)\n"
     ]
    },
    {
     "name": "stdout",
     "output_type": "stream",
     "text": [
      "Requirement already satisfied, skipping upgrade: pywinpty>=0.5 in c:\\anaconda\\lib\\site-packages (from terminado>=0.8.3->notebook>=4.4.1->widgetsnbextension~=3.5.0->ipywidgets) (0.5.7)\n",
      "Requirement already satisfied, skipping upgrade: pycparser in c:\\anaconda\\lib\\site-packages (from cffi>=1.0.0->argon2-cffi->notebook>=4.4.1->widgetsnbextension~=3.5.0->ipywidgets) (2.20)\n",
      "Requirement already satisfied, skipping upgrade: webencodings in c:\\anaconda\\lib\\site-packages (from bleach->nbconvert->notebook>=4.4.1->widgetsnbextension~=3.5.0->ipywidgets) (0.5.1)\n",
      "Requirement already satisfied, skipping upgrade: packaging in c:\\anaconda\\lib\\site-packages (from bleach->nbconvert->notebook>=4.4.1->widgetsnbextension~=3.5.0->ipywidgets) (20.4)\n",
      "Requirement already satisfied, skipping upgrade: nest-asyncio in c:\\anaconda\\lib\\site-packages (from nbclient<0.6.0,>=0.5.0->nbconvert->notebook>=4.4.1->widgetsnbextension~=3.5.0->ipywidgets) (1.4.2)\n",
      "Requirement already satisfied, skipping upgrade: async-generator in c:\\anaconda\\lib\\site-packages (from nbclient<0.6.0,>=0.5.0->nbconvert->notebook>=4.4.1->widgetsnbextension~=3.5.0->ipywidgets) (1.10)\n",
      "Requirement already satisfied, skipping upgrade: pyparsing>=2.0.2 in c:\\anaconda\\lib\\site-packages (from packaging->bleach->nbconvert->notebook>=4.4.1->widgetsnbextension~=3.5.0->ipywidgets) (2.4.7)\n",
      "Requirement already satisfied: shap in c:\\anaconda\\lib\\site-packages (0.39.0)\n",
      "Requirement already satisfied: slicer==0.0.7 in c:\\anaconda\\lib\\site-packages (from shap) (0.0.7)\n",
      "Requirement already satisfied: scikit-learn in c:\\anaconda\\lib\\site-packages (from shap) (0.23.2)\n",
      "Requirement already satisfied: numba in c:\\anaconda\\lib\\site-packages (from shap) (0.51.2)\n",
      "Requirement already satisfied: pandas in c:\\anaconda\\lib\\site-packages (from shap) (1.1.3)\n",
      "Requirement already satisfied: tqdm>4.25.0 in c:\\anaconda\\lib\\site-packages (from shap) (4.50.2)\n",
      "Requirement already satisfied: scipy in c:\\anaconda\\lib\\site-packages (from shap) (1.5.2)\n",
      "Requirement already satisfied: numpy in c:\\anaconda\\lib\\site-packages (from shap) (1.20.3)\n",
      "Requirement already satisfied: cloudpickle in c:\\anaconda\\lib\\site-packages (from shap) (1.6.0)\n",
      "Requirement already satisfied: joblib>=0.11 in c:\\anaconda\\lib\\site-packages (from scikit-learn->shap) (0.17.0)\n",
      "Requirement already satisfied: threadpoolctl>=2.0.0 in c:\\anaconda\\lib\\site-packages (from scikit-learn->shap) (2.1.0)\n",
      "Requirement already satisfied: llvmlite<0.35,>=0.34.0.dev0 in c:\\anaconda\\lib\\site-packages (from numba->shap) (0.34.0)\n",
      "Requirement already satisfied: setuptools in c:\\anaconda\\lib\\site-packages (from numba->shap) (50.3.1.post20201107)\n",
      "Requirement already satisfied: pytz>=2017.2 in c:\\anaconda\\lib\\site-packages (from pandas->shap) (2020.1)\n",
      "Requirement already satisfied: python-dateutil>=2.7.3 in c:\\anaconda\\lib\\site-packages (from pandas->shap) (2.8.1)\n",
      "Requirement already satisfied: six>=1.5 in c:\\anaconda\\lib\\site-packages (from python-dateutil>=2.7.3->pandas->shap) (1.15.0)\n",
      "Requirement already satisfied: sklearn in c:\\anaconda\\lib\\site-packages (0.0)\n",
      "Requirement already satisfied: scikit-learn in c:\\anaconda\\lib\\site-packages (from sklearn) (0.23.2)\n",
      "Requirement already satisfied: numpy>=1.13.3 in c:\\anaconda\\lib\\site-packages (from scikit-learn->sklearn) (1.20.3)\n",
      "Requirement already satisfied: scipy>=0.19.1 in c:\\anaconda\\lib\\site-packages (from scikit-learn->sklearn) (1.5.2)\n",
      "Requirement already satisfied: joblib>=0.11 in c:\\anaconda\\lib\\site-packages (from scikit-learn->sklearn) (0.17.0)\n",
      "Requirement already satisfied: threadpoolctl>=2.0.0 in c:\\anaconda\\lib\\site-packages (from scikit-learn->sklearn) (2.1.0)\n",
      "Requirement already up-to-date: numpy in c:\\anaconda\\lib\\site-packages (1.20.3)\n"
     ]
    },
    {
     "name": "stderr",
     "output_type": "stream",
     "text": [
      "Enabling notebook extension jupyter-js-widgets/extension...\n",
      "      - Validating: ok\n"
     ]
    }
   ],
   "source": [
    "# your code here\n",
    "!pip install --user --upgrade catboost\n",
    "!pip install --user --upgrade ipywidgets\n",
    "!pip install shap\n",
    "!pip install sklearn\n",
    "!pip install --upgrade numpy\n",
    "!jupyter nbextension enable --py widgetsnbextension"
   ]
  },
  {
   "cell_type": "code",
   "execution_count": 27,
   "metadata": {},
   "outputs": [
    {
     "name": "stdout",
     "output_type": "stream",
     "text": [
      "Populating the interactive namespace from numpy and matplotlib\n"
     ]
    },
    {
     "name": "stderr",
     "output_type": "stream",
     "text": [
      "C:\\anaconda\\lib\\site-packages\\IPython\\core\\magics\\pylab.py:159: UserWarning: pylab import has clobbered these variables: ['plt', 'test']\n",
      "`%matplotlib` prevents importing * from pylab and numpy\n",
      "  warn(\"pylab import has clobbered these variables: %s\"  % clobbered +\n"
     ]
    }
   ],
   "source": [
    "from matplotlib import pylab as plt\n",
    "%pylab inline"
   ]
  },
  {
   "cell_type": "code",
   "execution_count": 28,
   "metadata": {},
   "outputs": [],
   "source": [
    "np.set_printoptions(precision=4)\n",
    "import catboost\n",
    "from catboost import *"
   ]
  },
  {
   "cell_type": "code",
   "execution_count": 32,
   "metadata": {},
   "outputs": [],
   "source": [
    "X_train = train.drop('dep_delayed_15min', axis=1)\n",
    "y_train = train['dep_delayed_15min'].map({'Y': 1, 'N': 0}).values"
   ]
  },
  {
   "cell_type": "code",
   "execution_count": 33,
   "metadata": {},
   "outputs": [],
   "source": [
    "X_train_part, X_valid, y_train_part, y_valid = train_test_split(X_train, y_train, test_size=0.3)"
   ]
  },
  {
   "cell_type": "code",
   "execution_count": 34,
   "metadata": {},
   "outputs": [],
   "source": [
    "cat_features = [0, 1, 2, 4, 5, 6]"
   ]
  },
  {
   "cell_type": "code",
   "execution_count": 35,
   "metadata": {},
   "outputs": [
    {
     "name": "stdout",
     "output_type": "stream",
     "text": [
      "0:\tlearn: 0.6413830\ttest: 0.6409372\tbest: 0.6409372 (0)\ttotal: 581ms\tremaining: 1m 55s\n",
      "1:\tlearn: 0.6035166\ttest: 0.6027018\tbest: 0.6027018 (1)\ttotal: 758ms\tremaining: 1m 14s\n",
      "2:\tlearn: 0.5723168\ttest: 0.5710771\tbest: 0.5710771 (2)\ttotal: 1.11s\tremaining: 1m 13s\n",
      "3:\tlearn: 0.5493458\ttest: 0.5477576\tbest: 0.5477576 (3)\ttotal: 1.29s\tremaining: 1m 3s\n",
      "4:\tlearn: 0.5298203\ttest: 0.5279098\tbest: 0.5279098 (4)\ttotal: 1.6s\tremaining: 1m 2s\n",
      "5:\tlearn: 0.5151267\ttest: 0.5129229\tbest: 0.5129229 (5)\ttotal: 1.89s\tremaining: 1m\n",
      "6:\tlearn: 0.5025004\ttest: 0.5002334\tbest: 0.5002334 (6)\ttotal: 2.08s\tremaining: 57.4s\n",
      "7:\tlearn: 0.4910387\ttest: 0.4886324\tbest: 0.4886324 (7)\ttotal: 2.33s\tremaining: 55.8s\n",
      "8:\tlearn: 0.4836282\ttest: 0.4810290\tbest: 0.4810290 (8)\ttotal: 2.45s\tremaining: 52s\n",
      "9:\tlearn: 0.4781490\ttest: 0.4754798\tbest: 0.4754798 (9)\ttotal: 2.57s\tremaining: 48.8s\n",
      "10:\tlearn: 0.4713174\ttest: 0.4681733\tbest: 0.4681733 (10)\ttotal: 2.87s\tremaining: 49.3s\n",
      "11:\tlearn: 0.4664994\ttest: 0.4631821\tbest: 0.4631821 (11)\ttotal: 3.03s\tremaining: 47.5s\n",
      "12:\tlearn: 0.4629334\ttest: 0.4595390\tbest: 0.4595390 (12)\ttotal: 3.34s\tremaining: 48s\n",
      "13:\tlearn: 0.4594208\ttest: 0.4558820\tbest: 0.4558820 (13)\ttotal: 3.6s\tremaining: 47.8s\n",
      "14:\tlearn: 0.4573919\ttest: 0.4537853\tbest: 0.4537853 (14)\ttotal: 3.9s\tremaining: 48.2s\n",
      "15:\tlearn: 0.4546348\ttest: 0.4508945\tbest: 0.4508945 (15)\ttotal: 4.09s\tremaining: 47s\n",
      "16:\tlearn: 0.4518439\ttest: 0.4478420\tbest: 0.4478420 (16)\ttotal: 4.41s\tremaining: 47.5s\n",
      "17:\tlearn: 0.4496806\ttest: 0.4457666\tbest: 0.4457666 (17)\ttotal: 4.75s\tremaining: 48s\n",
      "18:\tlearn: 0.4480083\ttest: 0.4440255\tbest: 0.4440255 (18)\ttotal: 5.01s\tremaining: 47.8s\n",
      "19:\tlearn: 0.4462788\ttest: 0.4421820\tbest: 0.4421820 (19)\ttotal: 5.29s\tremaining: 47.6s\n",
      "20:\tlearn: 0.4447705\ttest: 0.4406965\tbest: 0.4406965 (20)\ttotal: 5.51s\tremaining: 47s\n",
      "21:\tlearn: 0.4434935\ttest: 0.4393338\tbest: 0.4393338 (21)\ttotal: 5.9s\tremaining: 47.7s\n",
      "22:\tlearn: 0.4420545\ttest: 0.4378906\tbest: 0.4378906 (22)\ttotal: 6.25s\tremaining: 48.1s\n",
      "23:\tlearn: 0.4411452\ttest: 0.4369945\tbest: 0.4369945 (23)\ttotal: 6.55s\tremaining: 48s\n",
      "24:\tlearn: 0.4404626\ttest: 0.4362776\tbest: 0.4362776 (24)\ttotal: 6.82s\tremaining: 47.8s\n",
      "25:\tlearn: 0.4395144\ttest: 0.4351724\tbest: 0.4351724 (25)\ttotal: 7.18s\tremaining: 48s\n",
      "26:\tlearn: 0.4385904\ttest: 0.4341356\tbest: 0.4341356 (26)\ttotal: 7.6s\tremaining: 48.7s\n",
      "27:\tlearn: 0.4378913\ttest: 0.4334690\tbest: 0.4334690 (27)\ttotal: 7.84s\tremaining: 48.2s\n",
      "28:\tlearn: 0.4373662\ttest: 0.4329102\tbest: 0.4329102 (28)\ttotal: 8.21s\tremaining: 48.4s\n",
      "29:\tlearn: 0.4369056\ttest: 0.4324298\tbest: 0.4324298 (29)\ttotal: 8.5s\tremaining: 48.1s\n",
      "30:\tlearn: 0.4361681\ttest: 0.4315587\tbest: 0.4315587 (30)\ttotal: 8.76s\tremaining: 47.7s\n",
      "31:\tlearn: 0.4358064\ttest: 0.4312233\tbest: 0.4312233 (31)\ttotal: 9.13s\tremaining: 47.9s\n",
      "32:\tlearn: 0.4354022\ttest: 0.4308043\tbest: 0.4308043 (32)\ttotal: 9.34s\tremaining: 47.3s\n",
      "33:\tlearn: 0.4350580\ttest: 0.4304810\tbest: 0.4304810 (33)\ttotal: 9.57s\tremaining: 46.7s\n",
      "34:\tlearn: 0.4344419\ttest: 0.4298854\tbest: 0.4298854 (34)\ttotal: 9.92s\tremaining: 46.7s\n",
      "35:\tlearn: 0.4339348\ttest: 0.4293982\tbest: 0.4293982 (35)\ttotal: 10.2s\tremaining: 46.6s\n",
      "36:\tlearn: 0.4334807\ttest: 0.4289623\tbest: 0.4289623 (36)\ttotal: 10.5s\tremaining: 46.1s\n",
      "37:\tlearn: 0.4329899\ttest: 0.4283605\tbest: 0.4283605 (37)\ttotal: 10.7s\tremaining: 45.6s\n",
      "38:\tlearn: 0.4324830\ttest: 0.4278521\tbest: 0.4278521 (38)\ttotal: 10.9s\tremaining: 45s\n",
      "39:\tlearn: 0.4321742\ttest: 0.4275092\tbest: 0.4275092 (39)\ttotal: 11.2s\tremaining: 44.7s\n",
      "40:\tlearn: 0.4316753\ttest: 0.4269536\tbest: 0.4269536 (40)\ttotal: 11.4s\tremaining: 44.3s\n",
      "41:\tlearn: 0.4312304\ttest: 0.4263220\tbest: 0.4263220 (41)\ttotal: 11.7s\tremaining: 43.8s\n",
      "42:\tlearn: 0.4308780\ttest: 0.4259260\tbest: 0.4259260 (42)\ttotal: 11.9s\tremaining: 43.6s\n",
      "43:\tlearn: 0.4307299\ttest: 0.4257823\tbest: 0.4257823 (43)\ttotal: 12.1s\tremaining: 42.8s\n",
      "44:\tlearn: 0.4304839\ttest: 0.4255030\tbest: 0.4255030 (44)\ttotal: 12.3s\tremaining: 42.4s\n",
      "45:\tlearn: 0.4301699\ttest: 0.4251983\tbest: 0.4251983 (45)\ttotal: 12.5s\tremaining: 41.9s\n",
      "46:\tlearn: 0.4298796\ttest: 0.4249670\tbest: 0.4249670 (46)\ttotal: 12.7s\tremaining: 41.4s\n",
      "47:\tlearn: 0.4296859\ttest: 0.4248123\tbest: 0.4248123 (47)\ttotal: 12.9s\tremaining: 40.9s\n",
      "48:\tlearn: 0.4294409\ttest: 0.4246006\tbest: 0.4246006 (48)\ttotal: 13.1s\tremaining: 40.5s\n",
      "49:\tlearn: 0.4292467\ttest: 0.4244190\tbest: 0.4244190 (49)\ttotal: 13.3s\tremaining: 40s\n",
      "50:\tlearn: 0.4289809\ttest: 0.4241991\tbest: 0.4241991 (50)\ttotal: 13.5s\tremaining: 39.6s\n",
      "51:\tlearn: 0.4287586\ttest: 0.4240492\tbest: 0.4240492 (51)\ttotal: 13.8s\tremaining: 39.2s\n",
      "52:\tlearn: 0.4284898\ttest: 0.4237206\tbest: 0.4237206 (52)\ttotal: 14.1s\tremaining: 39s\n",
      "53:\tlearn: 0.4281746\ttest: 0.4233374\tbest: 0.4233374 (53)\ttotal: 14.2s\tremaining: 38.5s\n",
      "54:\tlearn: 0.4281614\ttest: 0.4233231\tbest: 0.4233231 (54)\ttotal: 14.3s\tremaining: 37.6s\n",
      "55:\tlearn: 0.4279610\ttest: 0.4232059\tbest: 0.4232059 (55)\ttotal: 14.5s\tremaining: 37.2s\n",
      "56:\tlearn: 0.4278260\ttest: 0.4230474\tbest: 0.4230474 (56)\ttotal: 14.7s\tremaining: 36.8s\n",
      "57:\tlearn: 0.4275788\ttest: 0.4227238\tbest: 0.4227238 (57)\ttotal: 14.8s\tremaining: 36.3s\n",
      "58:\tlearn: 0.4272646\ttest: 0.4224629\tbest: 0.4224629 (58)\ttotal: 15s\tremaining: 35.9s\n",
      "59:\tlearn: 0.4270105\ttest: 0.4222594\tbest: 0.4222594 (59)\ttotal: 15.2s\tremaining: 35.5s\n",
      "60:\tlearn: 0.4268374\ttest: 0.4221203\tbest: 0.4221203 (60)\ttotal: 15.4s\tremaining: 35s\n",
      "61:\tlearn: 0.4266359\ttest: 0.4219483\tbest: 0.4219483 (61)\ttotal: 15.6s\tremaining: 34.6s\n",
      "62:\tlearn: 0.4263857\ttest: 0.4215937\tbest: 0.4215937 (62)\ttotal: 15.7s\tremaining: 34.2s\n",
      "63:\tlearn: 0.4262119\ttest: 0.4214385\tbest: 0.4214385 (63)\ttotal: 15.9s\tremaining: 33.9s\n",
      "64:\tlearn: 0.4259744\ttest: 0.4211908\tbest: 0.4211908 (64)\ttotal: 16.1s\tremaining: 33.4s\n",
      "65:\tlearn: 0.4258893\ttest: 0.4211605\tbest: 0.4211605 (65)\ttotal: 16.3s\tremaining: 33s\n",
      "66:\tlearn: 0.4258158\ttest: 0.4211120\tbest: 0.4211120 (66)\ttotal: 16.4s\tremaining: 32.5s\n",
      "67:\tlearn: 0.4256830\ttest: 0.4209590\tbest: 0.4209590 (67)\ttotal: 16.6s\tremaining: 32.1s\n",
      "68:\tlearn: 0.4255940\ttest: 0.4208597\tbest: 0.4208597 (68)\ttotal: 16.8s\tremaining: 31.9s\n",
      "69:\tlearn: 0.4255046\ttest: 0.4208617\tbest: 0.4208597 (68)\ttotal: 17s\tremaining: 31.6s\n",
      "70:\tlearn: 0.4254866\ttest: 0.4208328\tbest: 0.4208328 (70)\ttotal: 17.1s\tremaining: 31.2s\n",
      "71:\tlearn: 0.4253626\ttest: 0.4207744\tbest: 0.4207744 (71)\ttotal: 17.4s\tremaining: 30.8s\n",
      "72:\tlearn: 0.4252017\ttest: 0.4206684\tbest: 0.4206684 (72)\ttotal: 17.5s\tremaining: 30.5s\n",
      "73:\tlearn: 0.4251331\ttest: 0.4206399\tbest: 0.4206399 (73)\ttotal: 17.7s\tremaining: 30.1s\n",
      "74:\tlearn: 0.4249369\ttest: 0.4203927\tbest: 0.4203927 (74)\ttotal: 17.9s\tremaining: 29.8s\n",
      "75:\tlearn: 0.4248242\ttest: 0.4203229\tbest: 0.4203229 (75)\ttotal: 18.1s\tremaining: 29.5s\n",
      "76:\tlearn: 0.4247128\ttest: 0.4202283\tbest: 0.4202283 (76)\ttotal: 18.2s\tremaining: 29.1s\n",
      "77:\tlearn: 0.4245350\ttest: 0.4200869\tbest: 0.4200869 (77)\ttotal: 18.4s\tremaining: 28.8s\n",
      "78:\tlearn: 0.4244168\ttest: 0.4200115\tbest: 0.4200115 (78)\ttotal: 18.6s\tremaining: 28.6s\n",
      "79:\tlearn: 0.4243584\ttest: 0.4199794\tbest: 0.4199794 (79)\ttotal: 18.8s\tremaining: 28.2s\n",
      "80:\tlearn: 0.4242346\ttest: 0.4198989\tbest: 0.4198989 (80)\ttotal: 19s\tremaining: 27.9s\n",
      "81:\tlearn: 0.4241430\ttest: 0.4198688\tbest: 0.4198688 (81)\ttotal: 19.1s\tremaining: 27.5s\n",
      "82:\tlearn: 0.4240262\ttest: 0.4197938\tbest: 0.4197938 (82)\ttotal: 19.3s\tremaining: 27.2s\n",
      "83:\tlearn: 0.4239222\ttest: 0.4197645\tbest: 0.4197645 (83)\ttotal: 19.5s\tremaining: 26.9s\n",
      "84:\tlearn: 0.4238267\ttest: 0.4197336\tbest: 0.4197336 (84)\ttotal: 19.6s\tremaining: 26.6s\n",
      "85:\tlearn: 0.4236929\ttest: 0.4196582\tbest: 0.4196582 (85)\ttotal: 19.8s\tremaining: 26.3s\n",
      "86:\tlearn: 0.4235874\ttest: 0.4196093\tbest: 0.4196093 (86)\ttotal: 20s\tremaining: 26s\n",
      "87:\tlearn: 0.4235088\ttest: 0.4195284\tbest: 0.4195284 (87)\ttotal: 20.2s\tremaining: 25.7s\n",
      "88:\tlearn: 0.4233680\ttest: 0.4194486\tbest: 0.4194486 (88)\ttotal: 20.4s\tremaining: 25.4s\n",
      "89:\tlearn: 0.4232964\ttest: 0.4194010\tbest: 0.4194010 (89)\ttotal: 20.6s\tremaining: 25.1s\n",
      "90:\tlearn: 0.4231388\ttest: 0.4193045\tbest: 0.4193045 (90)\ttotal: 20.7s\tremaining: 24.8s\n",
      "91:\tlearn: 0.4230536\ttest: 0.4192627\tbest: 0.4192627 (91)\ttotal: 20.8s\tremaining: 24.5s\n",
      "92:\tlearn: 0.4228723\ttest: 0.4190162\tbest: 0.4190162 (92)\ttotal: 21s\tremaining: 24.2s\n",
      "93:\tlearn: 0.4227296\ttest: 0.4188934\tbest: 0.4188934 (93)\ttotal: 21.2s\tremaining: 23.9s\n"
     ]
    },
    {
     "name": "stdout",
     "output_type": "stream",
     "text": [
      "94:\tlearn: 0.4226193\ttest: 0.4188295\tbest: 0.4188295 (94)\ttotal: 21.4s\tremaining: 23.7s\n",
      "95:\tlearn: 0.4224907\ttest: 0.4188052\tbest: 0.4188052 (95)\ttotal: 21.6s\tremaining: 23.4s\n",
      "96:\tlearn: 0.4223743\ttest: 0.4187361\tbest: 0.4187361 (96)\ttotal: 21.8s\tremaining: 23.1s\n",
      "97:\tlearn: 0.4222090\ttest: 0.4186395\tbest: 0.4186395 (97)\ttotal: 21.9s\tremaining: 22.8s\n",
      "98:\tlearn: 0.4220263\ttest: 0.4184132\tbest: 0.4184132 (98)\ttotal: 22.1s\tremaining: 22.6s\n",
      "99:\tlearn: 0.4219099\ttest: 0.4183292\tbest: 0.4183292 (99)\ttotal: 22.3s\tremaining: 22.3s\n",
      "100:\tlearn: 0.4218355\ttest: 0.4182799\tbest: 0.4182799 (100)\ttotal: 22.5s\tremaining: 22s\n",
      "101:\tlearn: 0.4215612\ttest: 0.4180908\tbest: 0.4180908 (101)\ttotal: 22.6s\tremaining: 21.8s\n",
      "102:\tlearn: 0.4214475\ttest: 0.4180283\tbest: 0.4180283 (102)\ttotal: 22.8s\tremaining: 21.5s\n",
      "103:\tlearn: 0.4213864\ttest: 0.4179964\tbest: 0.4179964 (103)\ttotal: 22.9s\tremaining: 21.2s\n",
      "104:\tlearn: 0.4211499\ttest: 0.4177279\tbest: 0.4177279 (104)\ttotal: 23.1s\tremaining: 20.9s\n",
      "105:\tlearn: 0.4210761\ttest: 0.4176964\tbest: 0.4176964 (105)\ttotal: 23.2s\tremaining: 20.6s\n",
      "106:\tlearn: 0.4210458\ttest: 0.4176711\tbest: 0.4176711 (106)\ttotal: 23.3s\tremaining: 20.2s\n",
      "107:\tlearn: 0.4209305\ttest: 0.4175924\tbest: 0.4175924 (107)\ttotal: 23.5s\tremaining: 20s\n",
      "108:\tlearn: 0.4207622\ttest: 0.4175133\tbest: 0.4175133 (108)\ttotal: 23.8s\tremaining: 19.9s\n",
      "109:\tlearn: 0.4206030\ttest: 0.4174500\tbest: 0.4174500 (109)\ttotal: 24s\tremaining: 19.6s\n",
      "110:\tlearn: 0.4203894\ttest: 0.4171421\tbest: 0.4171421 (110)\ttotal: 24.2s\tremaining: 19.4s\n",
      "111:\tlearn: 0.4202948\ttest: 0.4170816\tbest: 0.4170816 (111)\ttotal: 24.4s\tremaining: 19.2s\n",
      "112:\tlearn: 0.4201316\ttest: 0.4169898\tbest: 0.4169898 (112)\ttotal: 24.6s\tremaining: 18.9s\n",
      "113:\tlearn: 0.4200513\ttest: 0.4169527\tbest: 0.4169527 (113)\ttotal: 24.8s\tremaining: 18.7s\n",
      "114:\tlearn: 0.4199633\ttest: 0.4169163\tbest: 0.4169163 (114)\ttotal: 25.1s\tremaining: 18.5s\n",
      "115:\tlearn: 0.4197578\ttest: 0.4166708\tbest: 0.4166708 (115)\ttotal: 25.2s\tremaining: 18.2s\n",
      "116:\tlearn: 0.4195409\ttest: 0.4163763\tbest: 0.4163763 (116)\ttotal: 25.3s\tremaining: 18s\n",
      "117:\tlearn: 0.4194073\ttest: 0.4163421\tbest: 0.4163421 (117)\ttotal: 25.5s\tremaining: 17.7s\n",
      "118:\tlearn: 0.4193462\ttest: 0.4163345\tbest: 0.4163345 (118)\ttotal: 25.8s\tremaining: 17.5s\n",
      "119:\tlearn: 0.4192309\ttest: 0.4163163\tbest: 0.4163163 (119)\ttotal: 25.9s\tremaining: 17.3s\n",
      "120:\tlearn: 0.4191413\ttest: 0.4162825\tbest: 0.4162825 (120)\ttotal: 26.2s\tremaining: 17.1s\n",
      "121:\tlearn: 0.4190339\ttest: 0.4161692\tbest: 0.4161692 (121)\ttotal: 26.4s\tremaining: 16.9s\n",
      "122:\tlearn: 0.4189405\ttest: 0.4161328\tbest: 0.4161328 (122)\ttotal: 26.7s\tremaining: 16.7s\n",
      "123:\tlearn: 0.4188473\ttest: 0.4160412\tbest: 0.4160412 (123)\ttotal: 26.9s\tremaining: 16.5s\n",
      "124:\tlearn: 0.4187874\ttest: 0.4160018\tbest: 0.4160018 (124)\ttotal: 27.1s\tremaining: 16.3s\n",
      "125:\tlearn: 0.4186828\ttest: 0.4159371\tbest: 0.4159371 (125)\ttotal: 27.3s\tremaining: 16s\n",
      "126:\tlearn: 0.4185034\ttest: 0.4158329\tbest: 0.4158329 (126)\ttotal: 27.5s\tremaining: 15.8s\n",
      "127:\tlearn: 0.4184109\ttest: 0.4158163\tbest: 0.4158163 (127)\ttotal: 27.8s\tremaining: 15.6s\n",
      "128:\tlearn: 0.4182347\ttest: 0.4156905\tbest: 0.4156905 (128)\ttotal: 28s\tremaining: 15.4s\n",
      "129:\tlearn: 0.4181217\ttest: 0.4156302\tbest: 0.4156302 (129)\ttotal: 28.3s\tremaining: 15.2s\n",
      "130:\tlearn: 0.4180726\ttest: 0.4156136\tbest: 0.4156136 (130)\ttotal: 28.4s\tremaining: 15s\n",
      "131:\tlearn: 0.4179975\ttest: 0.4155619\tbest: 0.4155619 (131)\ttotal: 28.7s\tremaining: 14.8s\n",
      "132:\tlearn: 0.4179021\ttest: 0.4155192\tbest: 0.4155192 (132)\ttotal: 28.9s\tremaining: 14.5s\n",
      "133:\tlearn: 0.4178090\ttest: 0.4154594\tbest: 0.4154594 (133)\ttotal: 29.1s\tremaining: 14.3s\n",
      "134:\tlearn: 0.4177550\ttest: 0.4154514\tbest: 0.4154514 (134)\ttotal: 29.4s\tremaining: 14.2s\n",
      "135:\tlearn: 0.4177117\ttest: 0.4154033\tbest: 0.4154033 (135)\ttotal: 29.6s\tremaining: 13.9s\n",
      "136:\tlearn: 0.4175350\ttest: 0.4153607\tbest: 0.4153607 (136)\ttotal: 29.8s\tremaining: 13.7s\n",
      "137:\tlearn: 0.4173472\ttest: 0.4152502\tbest: 0.4152502 (137)\ttotal: 30.1s\tremaining: 13.5s\n",
      "138:\tlearn: 0.4172479\ttest: 0.4152235\tbest: 0.4152235 (138)\ttotal: 30.2s\tremaining: 13.3s\n",
      "139:\tlearn: 0.4171942\ttest: 0.4152007\tbest: 0.4152007 (139)\ttotal: 30.4s\tremaining: 13s\n",
      "140:\tlearn: 0.4170698\ttest: 0.4151267\tbest: 0.4151267 (140)\ttotal: 30.6s\tremaining: 12.8s\n",
      "141:\tlearn: 0.4169153\ttest: 0.4150134\tbest: 0.4150134 (141)\ttotal: 30.7s\tremaining: 12.6s\n",
      "142:\tlearn: 0.4168619\ttest: 0.4150214\tbest: 0.4150134 (141)\ttotal: 30.9s\tremaining: 12.3s\n",
      "143:\tlearn: 0.4166939\ttest: 0.4149314\tbest: 0.4149314 (143)\ttotal: 31.1s\tremaining: 12.1s\n",
      "144:\tlearn: 0.4165894\ttest: 0.4148474\tbest: 0.4148474 (144)\ttotal: 31.3s\tremaining: 11.9s\n",
      "145:\tlearn: 0.4164012\ttest: 0.4146659\tbest: 0.4146659 (145)\ttotal: 31.5s\tremaining: 11.6s\n",
      "146:\tlearn: 0.4162517\ttest: 0.4145484\tbest: 0.4145484 (146)\ttotal: 31.7s\tremaining: 11.4s\n",
      "147:\tlearn: 0.4161891\ttest: 0.4145419\tbest: 0.4145419 (147)\ttotal: 32s\tremaining: 11.2s\n",
      "148:\tlearn: 0.4160189\ttest: 0.4143940\tbest: 0.4143940 (148)\ttotal: 32.1s\tremaining: 11s\n",
      "149:\tlearn: 0.4159778\ttest: 0.4143834\tbest: 0.4143834 (149)\ttotal: 32.3s\tremaining: 10.8s\n",
      "150:\tlearn: 0.4158856\ttest: 0.4143415\tbest: 0.4143415 (150)\ttotal: 32.5s\tremaining: 10.5s\n",
      "151:\tlearn: 0.4156846\ttest: 0.4141761\tbest: 0.4141761 (151)\ttotal: 32.7s\tremaining: 10.3s\n",
      "152:\tlearn: 0.4156166\ttest: 0.4141458\tbest: 0.4141458 (152)\ttotal: 32.8s\tremaining: 10.1s\n",
      "153:\tlearn: 0.4154796\ttest: 0.4140180\tbest: 0.4140180 (153)\ttotal: 33s\tremaining: 9.86s\n",
      "154:\tlearn: 0.4154575\ttest: 0.4140062\tbest: 0.4140062 (154)\ttotal: 33.2s\tremaining: 9.64s\n",
      "155:\tlearn: 0.4153434\ttest: 0.4138513\tbest: 0.4138513 (155)\ttotal: 33.4s\tremaining: 9.42s\n",
      "156:\tlearn: 0.4152703\ttest: 0.4138360\tbest: 0.4138360 (156)\ttotal: 33.6s\tremaining: 9.2s\n",
      "157:\tlearn: 0.4152279\ttest: 0.4138086\tbest: 0.4138086 (157)\ttotal: 33.8s\tremaining: 8.97s\n",
      "158:\tlearn: 0.4151378\ttest: 0.4137441\tbest: 0.4137441 (158)\ttotal: 34s\tremaining: 8.76s\n",
      "159:\tlearn: 0.4149626\ttest: 0.4135374\tbest: 0.4135374 (159)\ttotal: 34.1s\tremaining: 8.53s\n",
      "160:\tlearn: 0.4148305\ttest: 0.4135210\tbest: 0.4135210 (160)\ttotal: 34.4s\tremaining: 8.33s\n",
      "161:\tlearn: 0.4147436\ttest: 0.4134770\tbest: 0.4134770 (161)\ttotal: 34.6s\tremaining: 8.11s\n",
      "162:\tlearn: 0.4147291\ttest: 0.4134798\tbest: 0.4134770 (161)\ttotal: 34.8s\tremaining: 7.89s\n",
      "163:\tlearn: 0.4145818\ttest: 0.4134018\tbest: 0.4134018 (163)\ttotal: 35s\tremaining: 7.68s\n",
      "164:\tlearn: 0.4144102\ttest: 0.4132413\tbest: 0.4132413 (164)\ttotal: 35.2s\tremaining: 7.47s\n",
      "165:\tlearn: 0.4143675\ttest: 0.4132137\tbest: 0.4132137 (165)\ttotal: 35.5s\tremaining: 7.26s\n",
      "166:\tlearn: 0.4143076\ttest: 0.4131796\tbest: 0.4131796 (166)\ttotal: 35.8s\tremaining: 7.07s\n",
      "167:\tlearn: 0.4142097\ttest: 0.4131056\tbest: 0.4131056 (167)\ttotal: 36.1s\tremaining: 6.88s\n",
      "168:\tlearn: 0.4141699\ttest: 0.4130951\tbest: 0.4130951 (168)\ttotal: 36.3s\tremaining: 6.67s\n",
      "169:\tlearn: 0.4140688\ttest: 0.4130120\tbest: 0.4130120 (169)\ttotal: 36.6s\tremaining: 6.46s\n",
      "170:\tlearn: 0.4139885\ttest: 0.4129591\tbest: 0.4129591 (170)\ttotal: 36.9s\tremaining: 6.25s\n",
      "171:\tlearn: 0.4138605\ttest: 0.4128194\tbest: 0.4128194 (171)\ttotal: 37.1s\tremaining: 6.04s\n",
      "172:\tlearn: 0.4138152\ttest: 0.4128084\tbest: 0.4128084 (172)\ttotal: 37.3s\tremaining: 5.82s\n",
      "173:\tlearn: 0.4136953\ttest: 0.4128237\tbest: 0.4128084 (172)\ttotal: 37.5s\tremaining: 5.6s\n",
      "174:\tlearn: 0.4136111\ttest: 0.4127745\tbest: 0.4127745 (174)\ttotal: 37.7s\tremaining: 5.38s\n",
      "175:\tlearn: 0.4135091\ttest: 0.4126763\tbest: 0.4126763 (175)\ttotal: 37.9s\tremaining: 5.16s\n",
      "176:\tlearn: 0.4134595\ttest: 0.4126576\tbest: 0.4126576 (176)\ttotal: 38.1s\tremaining: 4.95s\n",
      "177:\tlearn: 0.4133799\ttest: 0.4125138\tbest: 0.4125138 (177)\ttotal: 38.3s\tremaining: 4.73s\n",
      "178:\tlearn: 0.4132892\ttest: 0.4124094\tbest: 0.4124094 (178)\ttotal: 38.4s\tremaining: 4.5s\n",
      "179:\tlearn: 0.4131606\ttest: 0.4122652\tbest: 0.4122652 (179)\ttotal: 38.5s\tremaining: 4.28s\n",
      "180:\tlearn: 0.4130725\ttest: 0.4121476\tbest: 0.4121476 (180)\ttotal: 38.7s\tremaining: 4.06s\n",
      "181:\tlearn: 0.4130108\ttest: 0.4120272\tbest: 0.4120272 (181)\ttotal: 38.8s\tremaining: 3.84s\n",
      "182:\tlearn: 0.4129231\ttest: 0.4120362\tbest: 0.4120272 (181)\ttotal: 39s\tremaining: 3.62s\n",
      "183:\tlearn: 0.4127602\ttest: 0.4119509\tbest: 0.4119509 (183)\ttotal: 39.2s\tremaining: 3.41s\n",
      "184:\tlearn: 0.4126363\ttest: 0.4118970\tbest: 0.4118970 (184)\ttotal: 39.4s\tremaining: 3.2s\n",
      "185:\tlearn: 0.4125937\ttest: 0.4118215\tbest: 0.4118215 (185)\ttotal: 39.5s\tremaining: 2.98s\n",
      "186:\tlearn: 0.4125029\ttest: 0.4117907\tbest: 0.4117907 (186)\ttotal: 39.7s\tremaining: 2.76s\n"
     ]
    },
    {
     "name": "stdout",
     "output_type": "stream",
     "text": [
      "187:\tlearn: 0.4123793\ttest: 0.4116464\tbest: 0.4116464 (187)\ttotal: 39.9s\tremaining: 2.55s\n",
      "188:\tlearn: 0.4123350\ttest: 0.4116467\tbest: 0.4116464 (187)\ttotal: 40.1s\tremaining: 2.33s\n",
      "189:\tlearn: 0.4122411\ttest: 0.4116460\tbest: 0.4116460 (189)\ttotal: 40.4s\tremaining: 2.12s\n",
      "190:\tlearn: 0.4121953\ttest: 0.4116308\tbest: 0.4116308 (190)\ttotal: 40.5s\tremaining: 1.91s\n",
      "191:\tlearn: 0.4121454\ttest: 0.4116407\tbest: 0.4116308 (190)\ttotal: 40.7s\tremaining: 1.7s\n",
      "192:\tlearn: 0.4119599\ttest: 0.4115888\tbest: 0.4115888 (192)\ttotal: 40.9s\tremaining: 1.48s\n",
      "193:\tlearn: 0.4118760\ttest: 0.4115238\tbest: 0.4115238 (193)\ttotal: 41.2s\tremaining: 1.27s\n",
      "194:\tlearn: 0.4118210\ttest: 0.4115143\tbest: 0.4115143 (194)\ttotal: 41.5s\tremaining: 1.06s\n",
      "195:\tlearn: 0.4117830\ttest: 0.4115137\tbest: 0.4115137 (195)\ttotal: 41.6s\tremaining: 849ms\n",
      "196:\tlearn: 0.4117109\ttest: 0.4115113\tbest: 0.4115113 (196)\ttotal: 41.8s\tremaining: 637ms\n",
      "197:\tlearn: 0.4116138\ttest: 0.4114853\tbest: 0.4114853 (197)\ttotal: 42.1s\tremaining: 426ms\n",
      "198:\tlearn: 0.4114663\ttest: 0.4113530\tbest: 0.4113530 (198)\ttotal: 42.4s\tremaining: 213ms\n",
      "199:\tlearn: 0.4114159\ttest: 0.4113195\tbest: 0.4113195 (199)\ttotal: 42.7s\tremaining: 0us\n",
      "\n",
      "bestTest = 0.4113194541\n",
      "bestIteration = 199\n",
      "\n"
     ]
    },
    {
     "data": {
      "text/plain": [
       "<catboost.core.CatBoostClassifier at 0x22a901785e0>"
      ]
     },
     "execution_count": 35,
     "metadata": {},
     "output_type": "execute_result"
    }
   ],
   "source": [
    "from catboost import CatBoostClassifier\n",
    "model = CatBoostClassifier(\n",
    "    iterations=200,\n",
    "    learning_rate=0.1,\n",
    "    # loss_function='CrossEntropy'\n",
    ")\n",
    "model.fit(\n",
    "    X_train_part, y_train_part,\n",
    "    cat_features=cat_features,\n",
    "    eval_set=(X_valid, y_valid),\n",
    "    verbose=True,\n",
    ")\n",
    "#print('Model is fitted: ' + str(model.is_fitted()))\n",
    "#print('Model params:')\n",
    "#print(model.get_params())"
   ]
  },
  {
   "cell_type": "code",
   "execution_count": 36,
   "metadata": {},
   "outputs": [],
   "source": [
    "from catboost.utils import get_roc_curve\n",
    "import sklearn\n",
    "from sklearn import metrics\n",
    "\n",
    "eval_pool = Pool(X_valid, y_valid, cat_features=cat_features)\n",
    "curve = get_roc_curve(model, eval_pool)\n",
    "(fpr, tpr, thresholds) = curve\n",
    "roc_auc = sklearn.metrics.auc(fpr, tpr)"
   ]
  },
  {
   "cell_type": "code",
   "execution_count": 37,
   "metadata": {},
   "outputs": [
    {
     "data": {
      "text/plain": [
       "0.7586048395493595"
      ]
     },
     "execution_count": 37,
     "metadata": {},
     "output_type": "execute_result"
    }
   ],
   "source": [
    "roc_auc"
   ]
  },
  {
   "cell_type": "code",
   "execution_count": 34,
   "metadata": {},
   "outputs": [
    {
     "data": {
      "application/vnd.jupyter.widget-view+json": {
       "model_id": "d46047be05d747cc943309c135e68354",
       "version_major": 2,
       "version_minor": 0
      },
      "text/plain": [
       "MetricVisualizer(layout=Layout(align_self='stretch', height='500px'))"
      ]
     },
     "metadata": {},
     "output_type": "display_data"
    }
   ],
   "source": [
    "from catboost import cv\n",
    "\n",
    "params = {}\n",
    "params['loss_function'] = 'Logloss'\n",
    "params['iterations'] = 200\n",
    "params['custom_loss'] = 'AUC'\n",
    "params['random_seed'] = 63\n",
    "params['learning_rate'] = 0.5\n",
    "\n",
    "cv_data = cv(\n",
    "    params = params,\n",
    "    pool = Pool(X_train, label=y_train, cat_features=cat_features),\n",
    "    fold_count=5,\n",
    "    shuffle=True,\n",
    "    partition_random_seed=0,\n",
    "    plot=True,\n",
    "    stratified=False,\n",
    "    verbose=False\n",
    ")"
   ]
  },
  {
   "cell_type": "code",
   "execution_count": 35,
   "metadata": {},
   "outputs": [
    {
     "data": {
      "text/html": [
       "<div>\n",
       "<style scoped>\n",
       "    .dataframe tbody tr th:only-of-type {\n",
       "        vertical-align: middle;\n",
       "    }\n",
       "\n",
       "    .dataframe tbody tr th {\n",
       "        vertical-align: top;\n",
       "    }\n",
       "\n",
       "    .dataframe thead th {\n",
       "        text-align: right;\n",
       "    }\n",
       "</style>\n",
       "<table border=\"1\" class=\"dataframe\">\n",
       "  <thead>\n",
       "    <tr style=\"text-align: right;\">\n",
       "      <th></th>\n",
       "      <th>iterations</th>\n",
       "      <th>test-Logloss-mean</th>\n",
       "      <th>test-Logloss-std</th>\n",
       "      <th>train-Logloss-mean</th>\n",
       "      <th>train-Logloss-std</th>\n",
       "      <th>test-AUC-mean</th>\n",
       "      <th>test-AUC-std</th>\n",
       "    </tr>\n",
       "  </thead>\n",
       "  <tbody>\n",
       "    <tr>\n",
       "      <th>0</th>\n",
       "      <td>0</td>\n",
       "      <td>0.504397</td>\n",
       "      <td>0.001261</td>\n",
       "      <td>0.504266</td>\n",
       "      <td>0.000779</td>\n",
       "      <td>0.669685</td>\n",
       "      <td>0.004969</td>\n",
       "    </tr>\n",
       "    <tr>\n",
       "      <th>1</th>\n",
       "      <td>1</td>\n",
       "      <td>0.468311</td>\n",
       "      <td>0.001856</td>\n",
       "      <td>0.468392</td>\n",
       "      <td>0.000813</td>\n",
       "      <td>0.679649</td>\n",
       "      <td>0.004460</td>\n",
       "    </tr>\n",
       "    <tr>\n",
       "      <th>2</th>\n",
       "      <td>2</td>\n",
       "      <td>0.452307</td>\n",
       "      <td>0.003026</td>\n",
       "      <td>0.452603</td>\n",
       "      <td>0.002921</td>\n",
       "      <td>0.699288</td>\n",
       "      <td>0.004610</td>\n",
       "    </tr>\n",
       "    <tr>\n",
       "      <th>3</th>\n",
       "      <td>3</td>\n",
       "      <td>0.444421</td>\n",
       "      <td>0.002115</td>\n",
       "      <td>0.444945</td>\n",
       "      <td>0.000863</td>\n",
       "      <td>0.710524</td>\n",
       "      <td>0.003543</td>\n",
       "    </tr>\n",
       "    <tr>\n",
       "      <th>4</th>\n",
       "      <td>4</td>\n",
       "      <td>0.439743</td>\n",
       "      <td>0.002650</td>\n",
       "      <td>0.440025</td>\n",
       "      <td>0.001196</td>\n",
       "      <td>0.717125</td>\n",
       "      <td>0.003933</td>\n",
       "    </tr>\n",
       "  </tbody>\n",
       "</table>\n",
       "</div>"
      ],
      "text/plain": [
       "   iterations  test-Logloss-mean  test-Logloss-std  train-Logloss-mean  \\\n",
       "0           0           0.504397          0.001261            0.504266   \n",
       "1           1           0.468311          0.001856            0.468392   \n",
       "2           2           0.452307          0.003026            0.452603   \n",
       "3           3           0.444421          0.002115            0.444945   \n",
       "4           4           0.439743          0.002650            0.440025   \n",
       "\n",
       "   train-Logloss-std  test-AUC-mean  test-AUC-std  \n",
       "0           0.000779       0.669685      0.004969  \n",
       "1           0.000813       0.679649      0.004460  \n",
       "2           0.002921       0.699288      0.004610  \n",
       "3           0.000863       0.710524      0.003543  \n",
       "4           0.001196       0.717125      0.003933  "
      ]
     },
     "execution_count": 35,
     "metadata": {},
     "output_type": "execute_result"
    }
   ],
   "source": [
    "cv_data.head()"
   ]
  },
  {
   "cell_type": "code",
   "execution_count": 36,
   "metadata": {},
   "outputs": [
    {
     "name": "stdout",
     "output_type": "stream",
     "text": [
      "Best validation AUC score, not stratified: 0.7600±0.0044 on step 188\n"
     ]
    }
   ],
   "source": [
    "best_value = np.max(cv_data['test-AUC-mean'])\n",
    "best_iter = np.argmax(cv_data['test-AUC-mean'])\n",
    "\n",
    "print('Best validation AUC score, not stratified: {:.4f}±{:.4f} on step {}'.format(\n",
    "    best_value,\n",
    "    cv_data['test-AUC-std'][best_iter],\n",
    "    best_iter)\n",
    ")"
   ]
  },
  {
   "cell_type": "markdown",
   "metadata": {
    "id": "mDmcF1cP2bDe"
   },
   "source": [
    "## DBSCAN своими руками (2 + 2* баллов)"
   ]
  },
  {
   "cell_type": "markdown",
   "metadata": {
    "id": "poDad0E52ii1"
   },
   "source": [
    "DBSCAN: Density-based spatial clustering of applications with noise\n",
    "\n",
    "Реализуйте класс dbscan.\n",
    "\n",
    "Алгоритм имеет два основных гиперпараметра:\n",
    "1. `eps` &mdash; радиус рассматриваемой окрестности\n",
    "2. `min_samples` &mdash; число соседей в окрестности\n",
    "\n",
    "Для выполнения кластеризации DBSCAN точки делятся на основные точки, достижимые по плотности точки и выпадающие следующим образом:\n",
    "\n",
    "- Точка $p$ является основной точкой, если по меньшей мере `min_samples` точек находятся на расстоянии, не превосходящем \n",
    "`eps` от неё. Говорят, что эти точки достижимы прямо из $p$.\n",
    "\n",
    "-  Точка $q$ прямо достижима из $p$, если точка $q$ находится на расстоянии, не большем `eps`, от точки $p$, и $p$ — основная точка.\n",
    "Точка $q$ достижима из $p$, если имеется путь \n",
    "$p_1,…,p_n$ где $p_1=p$ и $p_n=q$ , а каждая точка $p_{i+1}$ достижима прямо из $p_i$ (все точки на пути должны быть основными, за исключением $q$).\n",
    "\n",
    "Все точки, не достижимые из основных точек, считаются выбросами.\n",
    "\n",
    "Теперь, если $p$ является основной точкой, то она формирует кластер вместе со всеми точками (основными или неосновными), достижимыми из этой точки. Каждый кластер содержит по меньшей мере одну основную точку. Неосновные точки могут быть частью кластера, но они формируют его «край», поскольку не могут быть использованы для достижения других точек.\n"
   ]
  },
  {
   "cell_type": "code",
   "execution_count": 4,
   "metadata": {
    "id": "BdC__UEtabvU"
   },
   "outputs": [],
   "source": [
    "# Это может помочь вам для поиска дистанции между точками\n",
    "from scipy.spatial import distance\n",
    "from collections import deque"
   ]
  },
  {
   "cell_type": "code",
   "execution_count": 112,
   "metadata": {
    "id": "czgUIv2E3GBm"
   },
   "outputs": [],
   "source": [
    "# Рекомендации -- это только рекомендации\n",
    "class dbscan:\n",
    "    \n",
    "    UNCLASSIFIED = False\n",
    "    NOISE = -1\n",
    "    \n",
    "    def __init__(self, eps, min_samples):\n",
    "        # your code here\n",
    "        self.eps = eps\n",
    "        self.min_samples = min_samples\n",
    "        self.points = np.ndarray([])\n",
    "        self.n_points = 0\n",
    "        self.type_points = list()\n",
    "        self.cluster = 1\n",
    "        \n",
    "    def fit_predict(self, X):\n",
    "        # Помечаем переданные точки, чтобы отличать уже кластеризованные\n",
    "        # или являющиеся шумом от остальных\n",
    "        # your code here\n",
    "        self.points = X\n",
    "        self.n_points = X.shape[0]\n",
    "        self.type_points = [self.UNCLASSIFIED] * self.n_points\n",
    "        # Реализуем цикл по точкам, игнорирущий уже кластеризованные\n",
    "        # your code here\n",
    "        for i in range(self.n_points):\n",
    "            #point = X[i,:] \n",
    "            if self.type_points[i] == self.UNCLASSIFIED:\n",
    "                neibors_idx = self.range_query(i)\n",
    "                if len(neibors_idx) < self.min_samples:\n",
    "                    self.type_points[i] = self.NOISE\n",
    "                else:\n",
    "                    self.grow_cluster(i, neibors_idx)\n",
    "                    self.cluster += 1\n",
    "        return self.type_points            \n",
    "        # Если точка ещё не кластеризована, с помощью range_query() ищем её соседей\n",
    "        # Если соседей недостаточно, то помечаем её выделенным под шум лейблом\n",
    "        # (однако она ещё может попасть в какой-то иной кластер)\n",
    "        # Если же соседей достаточно, будем строить от неё кластер с помощью grow_cluster()\n",
    "        # your code here\n",
    "\n",
    "    def grow_cluster(self, root, neighbours):\n",
    "        # В этой функции мы полностью строим кластер относительно переданной точки\n",
    "        # Т.е. реализуем цикл по структуре данных, изначально состоящей из уже\n",
    "        # известных соседей (neighbours) и в процессе пополняющейся\n",
    "        # \"соседями соседей\" с помощью range_query()\n",
    "        # your code here\n",
    "        self.type_points[root] = self.cluster\n",
    "        for neighbour in neighbours:\n",
    "            self.type_points[neighbour] = self.cluster\n",
    "        q = deque(neighbours)\n",
    "        while (len(q) > 0):\n",
    "            point_id = q.popleft()\n",
    "            new_neibors = self.range_query(point_id)\n",
    "            if len(new_neibors) >= self.min_samples:\n",
    "                for i in new_neibors:\n",
    "                    if self.type_points[i] == self.UNCLASSIFIED:\n",
    "                        q.append(i)\n",
    "                        self.type_points[i] = self.cluster\n",
    "                    if self.type_points[i] == self.NOISE:\n",
    "                        self.type_points[i] = self.cluster\n",
    "        return True\n",
    "\n",
    "    def range_query(self, x):\n",
    "        \"\"\"Возвращает точки на расстоянии <= eps от x\"\"\"\n",
    "        # С помощью функции dist()\n",
    "        # your code here\n",
    "        neibors = list()\n",
    "        for i in range(self.n_points):\n",
    "            if self.dist(self.points[x,:], self.points[i,:]) <= self.eps and i != x: \n",
    "                neibors.append(i)\n",
    "        return neibors\n",
    "    \n",
    "    @staticmethod\n",
    "    def dist(a, b):\n",
    "        \"\"\"Метрика расстояния\"\"\"\n",
    "        # Попробуйте что-нибудь из scipy.spatial.distance\n",
    "        # Базовый вариант -- Евклидова метрика\n",
    "        # your code here \n",
    "        return distance.euclidean(a, b)"
   ]
  },
  {
   "cell_type": "markdown",
   "metadata": {
    "id": "lmI34EpRCLD9"
   },
   "source": [
    "Проверим себя на простом примере:"
   ]
  },
  {
   "cell_type": "code",
   "execution_count": 31,
   "metadata": {
    "colab": {
     "base_uri": "https://localhost:8080/",
     "height": 267
    },
    "id": "EFABkOA73JC6",
    "outputId": "00e82334-c571-440c-b43f-b103944e4d36"
   },
   "outputs": [
    {
     "data": {
      "image/png": "[encoded data removed]",
      "text/plain": [
       "<Figure size 432x288 with 1 Axes>"
      ]
     },
     "metadata": {
      "needs_background": "light"
     },
     "output_type": "display_data"
    }
   ],
   "source": [
    "from sklearn.datasets import make_moons\n",
    "import matplotlib.pyplot as plt\n",
    "import pandas as pd\n",
    "\n",
    "X, _ = make_moons(n_samples=500, noise=0.1)\n",
    "plt.scatter(X[:,0], X[:,1])\n",
    "plt.show()"
   ]
  },
  {
   "cell_type": "markdown",
   "metadata": {
    "id": "NCgWZPMwCycn"
   },
   "source": [
    "Кластеризуйте это с помощью своей версии DBSCAN:"
   ]
  },
  {
   "cell_type": "code",
   "execution_count": 32,
   "metadata": {
    "id": "dMtgyZMR4h0a",
    "scrolled": true
   },
   "outputs": [
    {
     "data": {
      "image/png": "[encoded data removed]",
      "text/plain": [
       "<Figure size 432x288 with 1 Axes>"
      ]
     },
     "metadata": {
      "needs_background": "light"
     },
     "output_type": "display_data"
    }
   ],
   "source": [
    "# your code here\n",
    "clusters = dbscan(eps=0.2, min_samples=20).fit_predict(X)\n",
    "\n",
    "plt.scatter(X[:,0], X[:,1], c=clusters)\n",
    "plt.show()"
   ]
  },
  {
   "cell_type": "markdown",
   "metadata": {
    "id": "OY_xo0uRC6lt"
   },
   "source": [
    "Референс:"
   ]
  },
  {
   "cell_type": "code",
   "execution_count": 33,
   "metadata": {
    "colab": {
     "base_uri": "https://localhost:8080/",
     "height": 267
    },
    "id": "QtEwI8mb_lLV",
    "outputId": "e912148c-7eae-4589-d29f-87b5e8cdfa51"
   },
   "outputs": [
    {
     "data": {
      "image/png": "[encoded data removed]",
      "text/plain": [
       "<Figure size 432x288 with 1 Axes>"
      ]
     },
     "metadata": {
      "needs_background": "light"
     },
     "output_type": "display_data"
    }
   ],
   "source": [
    "from sklearn.cluster import DBSCAN\n",
    "\n",
    "clusters = DBSCAN(eps=0.2, min_samples=20).fit_predict(X)\n",
    "\n",
    "plt.scatter(X[:,0], X[:,1], c=clusters)\n",
    "plt.show()"
   ]
  },
  {
   "cell_type": "markdown",
   "metadata": {
    "id": "M6S5stsxDBps"
   },
   "source": [
    "Получите 1 балл за ещё один интересный пример кластеризации (в качестве референса используйте предоставленное изображение. Нужно несколько интересных соседствующих форм):"
   ]
  },
  {
   "cell_type": "code",
   "execution_count": 149,
   "metadata": {
    "colab": {
     "base_uri": "https://localhost:8080/",
     "height": 265
    },
    "id": "iebozfLnDH4U",
    "outputId": "c52df5d2-3bf1-4f6c-adda-b9e940d6b1f8",
    "scrolled": true
   },
   "outputs": [
    {
     "name": "stdout",
     "output_type": "stream",
     "text": [
      "11.25\t5.05\t1 10.95\t4.7\t1 9.85\t5.8\t1 9.8\t5.75\t1 9.15\t6.8\t1 8.65\t6.6\t1 8.4\t7.5\t1 7.9\t7.75\t1 6.95\t8.7\t1 7.25\t9.75\t1 7.3\t10.25\t1 5.9\t10.7\t1 5.85\t11.8\t1 6.45\t12.05\t1 5.7\t12.95\t1 5.35\t13.45\t1 5.4\t14.65\t1 4.7\t14.85\t1 5.4\t15.4\t1 5.1\t16.25\t1 5.75\t16.7\t1 4.85\t17.65\t1 5\t18\t1 6.05\t18\t1 5.7\t19.45\t1 5.3\t19.55\t1 5.85\t21.25\t1 6.1\t21.35\t1 6.55\t22.15\t1 5.9\t22.8\t1 7.15\t23.7\t1 6.75\t24.25\t1 7.95\t24.65\t1 7.75\t25.3\t1 8.8\t26.05\t1 8.85\t26.95\t1 9.35\t27.45\t1 9.95\t27.1\t1 11.25\t28.2\t1 10.7\t28.55\t1 11.95\t29.45\t1 11.95\t28.65\t1 13.1\t30.05\t1 13.4\t29.3\t1 14.7\t30.2\t1 14.7\t30.6\t1 16.1\t30.4\t1 16.1\t31.05\t1 17.55\t30.8\t1 17.65\t31.75\t1 18.55\t31.6\t1 18.85\t30.6\t1 19.85\t30.9\t1 20.1\t31.3\t1 21.5\t31.35\t1 20.85\t30.4\t1 22.95\t30.05\t1 23.4\t30.3\t1 24.2\t29.9\t1 24.75\t30\t1 25.55\t29.3\t1 25.55\t28.45\t1 26.7\t28.3\t1 26.85\t28.75\t1 27.6\t27.15\t1 28.25\t27.4\t1 29.05\t27\t1 29.05\t26.2\t1 29.45\t25.55\t1 30.05\t25.55\t1 30.3\t23.3\t1 30.6\t23.95\t1 30.9\t22.75\t1 31\t22.3\t1 30.65\t21.3\t1 31.3\t20.8\t1 31.85\t21.2\t1 31.45\t19.3\t1 32.7\t19.3\t1 31.9\t17.9\t1 33.05\t18.05\t1 32.8\t16.6\t1 32.2\t16.3\t1 32.4\t15.15\t1 31.8\t14.75\t1 32.35\t13.25\t1 31.65\t13.35\t1 31.15\t12.05\t1 32\t11.9\t1 31.05\t10.3\t1 31.95\t10.4\t1 30.05\t9.55\t1 30.5\t8.25\t1 29.6\t8.25\t1 29.8\t7.6\t1 29\t7.05\t1 29\t6.7\t1 27.6\t5.95\t1 28.15\t5.45\t1 26.5\t4.8\t1 26.4\t4.4\t1 25.8\t3.65\t1 25.5\t4.1\t1 31.6\t16.6\t1 30.7\t17.4\t1 29.65\t17.95\t1 29.15\t16.5\t1 30.5\t15.55\t1 29.95\t13.55\t3 30\t11.85\t1 28.65\t14.1\t3 27.45\t10.85\t3 26.4\t10.75\t3 25.05\t10.1\t3 26.2\t11.55\t3 27.2\t13.3\t3 28.3\t14.45\t3 27.95\t14.65\t3 27.95\t14.7\t3 23.15\t11\t3 22.9\t11.6\t3 23.9\t11.6\t3 24.55\t11.6\t3 23.85\t12.45\t3 23.35\t13.1\t3 24.85\t13.2\t3 25.1\t12.25\t3 25.15\t12.5\t3 25.65\t12.9\t3 25.7\t13.5\t3 26.3\t13.3\t3 27.1\t14.55\t3 27.15\t14.6\t3 26.4\t14.35\t3 26.4\t14.35\t3 25.75\t14.55\t3 25.75\t14.9\t3 25.35\t14.65\t3 23.7\t14.55\t3 24.05\t14.9\t3 23.65\t15.3\t3 22.75\t14.5\t3 22\t14\t3 20.9\t12.95\t3 20.3\t13.1\t3 22.2\t16.45\t3 22.15\t16.65\t3 22.4\t15.15\t3 22.15\t15.2\t3 23.95\t15.95\t3 24.25\t16.1\t3 24.8\t16.1\t3 25.15\t16.15\t3 25.5\t16.7\t3 25.75\t16.85\t3 26.2\t16.85\t3 26.25\t16.9\t3 26.25\t16.35\t3 26.75\t16.2\t3 27.4\t16.15\t3 27.6\t16.85\t3 26.95\t17.2\t3 26.3\t18.1\t3 27.55\t17.95\t3 27.7\t17.6\t3 28.25\t18.25\t3 28.8\t19.15\t3 28.5\t19.15\t3 28.1\t19.35\t3 28.05\t20.3\t3 27.3\t20.5\t3 27.1\t21.6\t3 26.75\t19.5\t3 26.5\t20\t3 25.9\t19.8\t3 25.1\t19.8\t3 24.75\t20.7\t3 24.35\t20.55\t3 23.55\t20.35\t3 24.3\t19.7\t3 24.9\t19\t3 24.7\t16.8\t3 24.35\t16.8\t3 24.4\t17.15\t3 24.9\t17.3\t3 24.35\t17.7\t3 24.95\t17.8\t3 24.95\t18.05\t3 24.4\t18.35\t3 23.65\t18.6\t3 22.85\t18.9\t3 22.4\t20.65\t3 22.5\t17.8\t3 22.45\t18.25\t3 21.6\t17.7\t3 21.35\t18.05\t3 21.3\t18.25\t3 19.95\t19.8\t3 20.45\t20.45\t3 20.35\t16.95\t3 19.7\t17.45\t3 19.35\t17.45\t3 12.45\t9.15\t2 10.1\t10.05\t2 11.75\t12.2\t2 9.55\t12.4\t2 8.65\t13.35\t2 7.75\t13.55\t2 8.55\t15.15\t2 8.05\t15.9\t2 8.45\t15.9\t2 8.6\t16.85\t2 9\t17.05\t2 9\t16.3\t2 9.35\t16.3\t2 9.55\t15.3\t2 9.65\t14.85\t2 10.15\t15.05\t2 10.05\t15.6\t2 10.4\t16\t2 10.65\t16\t2 10.9\t15.95\t2 10.7\t15.35\t2 11.35\t15.05\t2 11.15\t14.75\t2 11.05\t14.6\t2 11.15\t14.2\t2 11.1\t13.6\t2 12.5\t13\t2 13.3\t12.45\t2 13.5\t12.4\t2 13.95\t11.75\t2 14.4\t12.2\t2 15.4\t12.2\t2 15.25\t12.45\t2 14.6\t12.75\t2 14.1\t13.05\t2 14.2\t13.25\t2 14.75\t13.45\t2 13.15\t13.4\t2 13.05\t13.7\t2 12.65\t13.65\t2 15.45\t13.75\t2 14.65\t14.2\t2 13.75\t14.05\t2 13.75\t14.5\t2 12.95\t14.8\t2 13.2\t14.9\t2 13.25\t15.5\t2 12.1\t15.35\t2 12.15\t15.5\t2 11.25\t16.4\t2 12.7\t15.6\t2 12.5\t16.15\t2 12.7\t16.6\t2 12.15\t16.2\t2 11.95\t16.5\t2 11.45\t16.8\t2 11.05\t17.2\t2 11.3\t17.6\t2 11.65\t17.6\t2 11.25\t18.25\t2 11.05\t18.45\t2 11.05\t18.55\t2 10.55\t18.55\t2 10.8\t19.2\t2 7.45\t19\t1 10.05\t20.1\t2 9.95\t20.5\t2 10.65\t20.45\t2 10.3\t22.75\t2 11.7\t19.6\t2 12.2\t19.65\t2 13.2\t20.1\t2 13.55\t20.05\t2 14.15\t20.05\t2 14.25\t21.5\t2 13.25\t21.4\t2 12.85\t18.1\t2 13.75\t18.3\t2 14.2\t18.35\t2 14.25\t18.8\t2 13.75\t16\t2 13.75\t16.7\t2 13.75\t17.05\t2 14.05\t16.8\t2 14.5\t16.95\t2 14.75\t16.65\t2 15.25\t16.05\t2 15.4\t16.2\t2 15.85\t16.2\t2 15.5\t15.55\t2 15\t14.95\t2 16.6\t16.15\t2 17.9\t15.6\t2 17.5\t18.05\t2 16.65\t17.5\t2 15.45\t17.3\t2 15.45\t17.8\t2 15.7\t18.4\t2\n"
     ]
    }
   ],
   "source": [
    "points = []\n",
    "s = list(map(float, input().split()))\n",
    "for i in range(0, len(s), 3):\n",
    "    points.append([s[i],s[i+1]])\n"
   ]
  },
  {
   "cell_type": "code",
   "execution_count": 154,
   "metadata": {},
   "outputs": [
    {
     "data": {
      "image/png": "[encoded data removed]",
      "text/plain": [
       "<Figure size 432x288 with 1 Axes>"
      ]
     },
     "metadata": {
      "needs_background": "light"
     },
     "output_type": "display_data"
    }
   ],
   "source": [
    "plt.scatter(np.array(points).T[0], np.array(points).T[1])\n",
    "plt.show()"
   ]
  },
  {
   "cell_type": "code",
   "execution_count": 203,
   "metadata": {},
   "outputs": [
    {
     "data": {
      "image/png": "[encoded data removed]",
      "text/plain": [
       "<Figure size 432x288 with 1 Axes>"
      ]
     },
     "metadata": {
      "needs_background": "light"
     },
     "output_type": "display_data"
    }
   ],
   "source": [
    "clusters = dbscan(eps=1.3, min_samples=6).fit_predict(np.array(points))\n",
    "\n",
    "plt.scatter(np.array(points).T[0], np.array(points).T[1], c=clusters)\n",
    "plt.show() #результат совпал с библиотечным  DBSCAN"
   ]
  },
  {
   "cell_type": "code",
   "execution_count": 202,
   "metadata": {},
   "outputs": [
    {
     "data": {
      "image/png": "[encoded data removed]",
      "text/plain": [
       "<Figure size 432x288 with 1 Axes>"
      ]
     },
     "metadata": {
      "needs_background": "light"
     },
     "output_type": "display_data"
    }
   ],
   "source": [
    "clusters = DBSCAN(eps=1.3, min_samples=6).fit_predict(np.array(points))\n",
    "\n",
    "plt.scatter(np.array(points).T[0], np.array(points).T[1], c=clusters)\n",
    "plt.show()"
   ]
  },
  {
   "cell_type": "markdown",
   "metadata": {
    "id": "jZRxN-y1DKoA"
   },
   "source": [
    "Получите ещё 1 балл, если время работы вашего алгоритма больше референсного не более чем в 100 раз с учётом погрешности 3% от вашего времени:"
   ]
  },
  {
   "cell_type": "code",
   "execution_count": 115,
   "metadata": {
    "colab": {
     "base_uri": "https://localhost:8080/"
    },
    "id": "JjqYw7RSDkqd",
    "outputId": "94d8c7ca-89f4-4fae-eadb-e531e417f018"
   },
   "outputs": [
    {
     "name": "stdout",
     "output_type": "stream",
     "text": [
      "Wall time: 16 ms\n"
     ]
    }
   ],
   "source": [
    "%%time\n",
    "%%capture\n",
    "clusters = DBSCAN(eps=0.2, min_samples=10).fit_predict(X)"
   ]
  },
  {
   "cell_type": "code",
   "execution_count": 116,
   "metadata": {
    "id": "pAeHvTniDtSB"
   },
   "outputs": [
    {
     "name": "stdout",
     "output_type": "stream",
     "text": [
      "Wall time: 6.38 s\n"
     ]
    }
   ],
   "source": [
    "%%time\n",
    "%%capture\n",
    "clusters = dbscan(eps=0.2, min_samples=10).fit_predict(X)"
   ]
  }
 ],
 "metadata": {
  "colab": {
   "collapsed_sections": [],
   "name": "hw8-boosting-clustering.ipynb",
   "provenance": [],
   "toc_visible": true
  },
  "kernelspec": {
   "display_name": "Python 3",
   "language": "python",
   "name": "python3"
  },
  "language_info": {
   "codemirror_mode": {
    "name": "ipython",
    "version": 3
   },
   "file_extension": ".py",
   "mimetype": "text/x-python",
   "name": "python",
   "nbconvert_exporter": "python",
   "pygments_lexer": "ipython3",
   "version": "3.8.5"
  }
 },
 "nbformat": 4,
 "nbformat_minor": 1
}
